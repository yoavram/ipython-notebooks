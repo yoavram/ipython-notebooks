{
 "cells": [
  {
   "cell_type": "code",
   "execution_count": 2,
   "metadata": {},
   "outputs": [
    {
     "name": "stdout",
     "output_type": "stream",
     "text": [
      "Bin2Hex\n"
     ]
    }
   ],
   "source": [
    "System.out.println(\"Bin2Hex\");"
   ]
  },
  {
   "cell_type": "code",
   "execution_count": 41,
   "metadata": {},
   "outputs": [],
   "source": [
    "String bin = \"11001100011000001111\"; // E7\n",
    "String hex = \"\";"
   ]
  },
  {
   "cell_type": "code",
   "execution_count": 42,
   "metadata": {},
   "outputs": [],
   "source": [
    "String[] dec2hex = {\"0\",\"1\",\"2\",\"3\",\"4\",\"5\",\"6\",\"7\",\"8\",\"9\",\"A\",\"B\",\"C\",\"D\",\"E\",\"F\"};"
   ]
  },
  {
   "cell_type": "code",
   "execution_count": 43,
   "metadata": {},
   "outputs": [
    {
     "name": "stdout",
     "output_type": "stream",
     "text": [
      "CC60F\n"
     ]
    }
   ],
   "source": [
    "int dec = 0;\n",
    "int v = 8;\n",
    "int i = 0;\n",
    "\n",
    "while (i < bin.length()) {    \n",
    "    if (bin.charAt(i) == '1') {\n",
    "        dec += v;\n",
    "    }\n",
    "    v /= 2;\n",
    "    \n",
    "    i++;\n",
    "    if (i % 4 == 0) {\n",
    "        hex += dec2hex[dec];\n",
    "        dec = 0;\n",
    "        v = 8;\n",
    "    }\n",
    "}\n",
    "System.out.println(hex);"
   ]
  },
  {
   "cell_type": "code",
   "execution_count": null,
   "metadata": {},
   "outputs": [],
   "source": []
  }
 ],
 "metadata": {
  "kernelspec": {
   "display_name": "Java",
   "language": "java",
   "name": "java"
  },
  "language_info": {
   "codemirror_mode": "java",
   "file_extension": ".java",
   "mimetype": "text/x-java-source",
   "name": "Java",
   "pygments_lexer": "java",
   "version": "12.0.1+12"
  }
 },
 "nbformat": 4,
 "nbformat_minor": 4
}
