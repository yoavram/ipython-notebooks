{
 "cells": [
  {
   "cell_type": "markdown",
   "metadata": {},
   "source": [
    "Test NumPy multinomial vs. TensorFlow Probability Multinomial for <https://github.com/tensorflow/probability/issues/898>."
   ]
  },
  {
   "cell_type": "code",
   "execution_count": 1,
   "metadata": {},
   "outputs": [
    {
     "name": "stdout",
     "output_type": "stream",
     "text": [
      "tf 2.2.0-dev20200427\n",
      "tfp 0.11.0-dev20200427\n",
      "np 1.18.1\n"
     ]
    }
   ],
   "source": [
    "import tensorflow as tf # python -m pip install tf-nightly t\n",
    "import tensorflow_probability as tfp # python -m pip install tfp-nightly\n",
    "import numpy as np\n",
    "print('tf', tf.__version__)\n",
    "print('tfp', tfp.__version__)\n",
    "print('np', np.__version__)"
   ]
  },
  {
   "cell_type": "code",
   "execution_count": 11,
   "metadata": {},
   "outputs": [
    {
     "data": {
      "text/plain": [
       "array([0.00297214, 0.09104667, 0.05511024, 0.00113446, 0.04235687,\n",
       "       0.01866667, 0.00870696, 0.01496359, 0.00307013, 0.01482515,\n",
       "       0.01184055, 0.00320658, 0.00920683, 0.00413973, 0.03984834,\n",
       "       0.00509918, 0.00130112, 0.02442503, 0.00072632, 0.01279097,\n",
       "       0.00099365, 0.00637722, 0.00154611, 0.10655065, 0.03667299,\n",
       "       0.00552926, 0.02204457, 0.02467754, 0.01182961, 0.02111125,\n",
       "       0.0195045 , 0.03008724, 0.01481849, 0.06423313, 0.01717561,\n",
       "       0.0131581 , 0.01485412, 0.02061338, 0.00381797, 0.0170003 ,\n",
       "       0.00191953, 0.02103308, 0.00783909, 0.00856163, 0.0326934 ,\n",
       "       0.02434709, 0.00560807, 0.00956336, 0.00378877, 0.06661277])"
      ]
     },
     "execution_count": 11,
     "metadata": {},
     "output_type": "execute_result"
    }
   ],
   "source": [
    "N = 1000000\n",
    "m = 50\n",
    "n = 500\n",
    "\n",
    "p = np.random.exponential(size=(n, m))\n",
    "p /= p.sum(axis=1, keepdims=True)\n",
    "assert np.allclose(1, p.sum(axis=1))\n",
    "p[0]"
   ]
  },
  {
   "cell_type": "markdown",
   "metadata": {},
   "source": [
    "nump.random.multinomial"
   ]
  },
  {
   "cell_type": "code",
   "execution_count": 12,
   "metadata": {},
   "outputs": [
    {
     "name": "stdout",
     "output_type": "stream",
     "text": [
      "[  3053  90853  55026   1125  42034  18382   8886  14748   3076  14729\n",
      "  11558   3283   9275   4078  39946   5210   1344  24443    748  12850\n",
      "   1063   6379   1591 106357  36553   5560  22066  24648  12026  21110\n",
      "  19751  30092  14777  64432  17232  13031  14735  20825   3948  17043\n",
      "   1934  21137   7997   8591  32708  24213   5611   9627   3778  66538]\n"
     ]
    }
   ],
   "source": [
    "x = np.array([np.random.multinomial(N, p_) for p_ in p])\n",
    "assert x.shape == p.shape\n",
    "assert np.allclose(N, x.sum(axis=1))\n",
    "print(x[0])"
   ]
  },
  {
   "cell_type": "code",
   "execution_count": 13,
   "metadata": {},
   "outputs": [
    {
     "name": "stdout",
     "output_type": "stream",
     "text": [
      "16.4 ms ± 751 µs per loop (mean ± std. dev. of 7 runs, 100 loops each)\n"
     ]
    }
   ],
   "source": [
    "%timeit np.array([np.random.multinomial(n, p_) for p_ in p])"
   ]
  },
  {
   "cell_type": "markdown",
   "metadata": {},
   "source": [
    "[tfp.distributions.Multinomial](https://www.tensorflow.org/probability/api_docs/python/tfp/distributions/Multinomial?version=nightly)"
   ]
  },
  {
   "cell_type": "code",
   "execution_count": 14,
   "metadata": {},
   "outputs": [],
   "source": [
    "dist = tfp.distributions.Multinomial(total_count=N, probs=p)"
   ]
  },
  {
   "cell_type": "code",
   "execution_count": 15,
   "metadata": {},
   "outputs": [],
   "source": [
    "@tf.function\n",
    "def sample():\n",
    "    return dist.sample()\n",
    "\n",
    "sample();"
   ]
  },
  {
   "cell_type": "code",
   "execution_count": 16,
   "metadata": {},
   "outputs": [
    {
     "name": "stdout",
     "output_type": "stream",
     "text": [
      "[  2955.  91228.  55171.   1128.  42534.  18664.   8752.  14856.   3069.\n",
      "  15084.  11847.   3207.   9067.   4211.  39796.   4931.   1342.  24312.\n",
      "    738.  12802.    966.   6414.   1597. 106271.  37053.   5523.  21975.\n",
      "  24754.  11845.  20986.  19434.  30400.  14772.  64045.  17118.  13001.\n",
      "  14780.  20597.   3824.  16997.   1944.  20780.   7782.   8430.  32751.\n",
      "  24324.   5587.   9507.   3757.  67092.]\n"
     ]
    }
   ],
   "source": [
    "x = sample().numpy()\n",
    "assert x.shape == p.shape\n",
    "assert np.allclose(N, x.sum(axis=1))\n",
    "print(x[0])"
   ]
  },
  {
   "cell_type": "code",
   "execution_count": 17,
   "metadata": {},
   "outputs": [
    {
     "name": "stdout",
     "output_type": "stream",
     "text": [
      "10.3 ms ± 2.76 ms per loop (mean ± std. dev. of 7 runs, 100 loops each)\n"
     ]
    }
   ],
   "source": [
    "%timeit sample().numpy()"
   ]
  }
 ],
 "metadata": {
  "kernelspec": {
   "display_name": "Python [conda env:tf]",
   "language": "python",
   "name": "conda-env-tf-py"
  },
  "language_info": {
   "codemirror_mode": {
    "name": "ipython",
    "version": 3
   },
   "file_extension": ".py",
   "mimetype": "text/x-python",
   "name": "python",
   "nbconvert_exporter": "python",
   "pygments_lexer": "ipython3",
   "version": "3.7.6"
  }
 },
 "nbformat": 4,
 "nbformat_minor": 4
}
