{
 "cells": [
  {
   "cell_type": "code",
   "execution_count": 1,
   "metadata": {
    "collapsed": false,
    "jupyter": {
     "outputs_hidden": false
    }
   },
   "outputs": [
    {
     "name": "stdout",
     "output_type": "stream",
     "text": [
      "D:\\workspace\\curriculum-vitae\n"
     ]
    }
   ],
   "source": [
    "cd D:\\workspace\\curriculum-vitae"
   ]
  },
  {
   "cell_type": "code",
   "execution_count": 2,
   "metadata": {
    "collapsed": false,
    "jupyter": {
     "outputs_hidden": false
    }
   },
   "outputs": [],
   "source": [
    "import re"
   ]
  },
  {
   "cell_type": "code",
   "execution_count": 3,
   "metadata": {
    "collapsed": false,
    "jupyter": {
     "outputs_hidden": false
    }
   },
   "outputs": [],
   "source": [
    "import scholar"
   ]
  },
  {
   "cell_type": "code",
   "execution_count": 36,
   "metadata": {
    "collapsed": false,
    "jupyter": {
     "outputs_hidden": false
    }
   },
   "outputs": [],
   "source": [
    "author = '\"Lilach Hadany\"'\n",
    "count = 10"
   ]
  },
  {
   "cell_type": "code",
   "execution_count": 44,
   "metadata": {
    "collapsed": false,
    "jupyter": {
     "outputs_hidden": false
    }
   },
   "outputs": [
    {
     "data": {
      "text/plain": [
       "<module 'scholar' from 'scholar.py'>"
      ]
     },
     "execution_count": 44,
     "metadata": {},
     "output_type": "execute_result"
    }
   ],
   "source": [
    "reload(scholar)"
   ]
  },
  {
   "cell_type": "code",
   "execution_count": 45,
   "metadata": {
    "collapsed": false,
    "jupyter": {
     "outputs_hidden": false
    }
   },
   "outputs": [],
   "source": [
    "querier = scholar.ScholarQuerier(author=author, count=count)"
   ]
  },
  {
   "cell_type": "code",
   "execution_count": 46,
   "metadata": {
    "collapsed": false,
    "jupyter": {
     "outputs_hidden": false
    }
   },
   "outputs": [],
   "source": [
    "querier.query('')"
   ]
  },
  {
   "cell_type": "code",
   "execution_count": 47,
   "metadata": {
    "collapsed": false,
    "jupyter": {
     "outputs_hidden": false
    }
   },
   "outputs": [
    {
     "name": "stdout",
     "output_type": "stream",
     "text": [
      "         Title On the evolutionary advantage of fitness-associated recombination\n",
      "           URL http://www.genetics.org/content/165/4/2167.short\n",
      "     Citations 39\n",
      "      Versions 16\n",
      "Citations list http://scholar.google.com/scholar?cites=14592832528371745278&as_sdt=2005&sciodt=1,5&hl=en\n",
      " Versions list http://scholar.google.com/scholar?cluster=14592832528371745278&hl=en&as_sdt=1,5\n",
      "          Year 2003\n",
      "       journal Genetics\n",
      "\n",
      "         Title Mutability and importance of a hypermutable cell subpopulation that produces stress-induced mutants in Escherichia coli\n",
      "           URL http://dx.plos.org/10.1371/journal.pgen.1000208\n",
      "     Citations 29\n",
      "      Versions 15\n",
      "Citations list http://scholar.google.com/scholar?cites=17851428158278205664&as_sdt=2005&sciodt=1,5&hl=en\n",
      " Versions list http://scholar.google.com/scholar?cluster=17851428158278205664&hl=en&as_sdt=1,5\n",
      "          Year 2008\n",
      "       journal PLoS genetics\n",
      "\n",
      "         Title Why are sex and recombination so common?\n",
      "           URL http://onlinelibrary.wiley.com/doi/10.1196/annals.1438.011/full\n",
      "     Citations 25\n",
      "      Versions 17\n",
      "Citations list http://scholar.google.com/scholar?cites=14981953107103771385&as_sdt=2005&sciodt=1,5&hl=en\n",
      " Versions list http://scholar.google.com/scholar?cluster=14981953107103771385&hl=en&as_sdt=1,5\n",
      "          Year 2008\n",
      "       journal Annals of the New York Academy of Sciences\n",
      "\n",
      "         Title The evolution of condition-dependent sex in the face of high costs\n",
      "           URL http://www.genetics.org/content/176/3/1713.short\n",
      "     Citations 25\n",
      "      Versions 16\n",
      "Citations list http://scholar.google.com/scholar?cites=12508390993746093160&as_sdt=2005&sciodt=1,5&hl=en\n",
      " Versions list http://scholar.google.com/scholar?cluster=12508390993746093160&hl=en&as_sdt=1,5\n",
      "          Year 2007\n",
      "       journal Genetics\n",
      "\n",
      "         Title The evolution of plastic recombination\n",
      "           URL http://www.genetics.org/content/171/2/803.short\n",
      "     Citations 24\n",
      "      Versions 8\n",
      "Citations list http://scholar.google.com/scholar?cites=2228806873039266429&as_sdt=2005&sciodt=1,5&hl=en\n",
      " Versions list http://scholar.google.com/scholar?cluster=2228806873039266429&hl=en&as_sdt=1,5\n",
      "          Year 2005\n",
      "       journal Genetics\n",
      "\n",
      "         Title Sexual selection and the evolution of obligatory sex\n",
      "           URL http://www.biomedcentral.com/1471-2148/7/245/\n",
      "     Citations 18\n",
      "      Versions 34\n",
      "Citations list http://scholar.google.com/scholar?cites=13084761708027286115&as_sdt=2005&sciodt=1,5&hl=en\n",
      " Versions list http://scholar.google.com/scholar?cluster=13084761708027286115&hl=en&as_sdt=1,5\n",
      "          Year 2007\n",
      "       journal BMC evolutionary biology\n",
      "\n",
      "         Title Adaptive peak shifts in a heterogenous environment\n",
      "           URL http://www.sciencedirect.com/science/article/pii/S0040580902000114\n",
      "     Citations 13\n",
      "      Versions 14\n",
      "Citations list http://scholar.google.com/scholar?cites=1633792567796030453&as_sdt=2005&sciodt=1,5&hl=en\n",
      " Versions list http://scholar.google.com/scholar?cluster=1633792567796030453&hl=en&as_sdt=1,5\n",
      "          Year 2003\n",
      "       journal Theoretical population biology\n",
      "\n",
      "         Title Why is stress so deadly? An evolutionary perspective\n",
      "           URL http://rspb.royalsocietypublishing.org/content/273/1588/881.short\n",
      "     Citations 13\n",
      "      Versions 20\n",
      "Citations list http://scholar.google.com/scholar?cites=7968769047582445430&as_sdt=2005&sciodt=1,5&hl=en\n",
      " Versions list http://scholar.google.com/scholar?cluster=7968769047582445430&hl=en&as_sdt=1,5\n",
      "          Year 2006\n",
      "       journal Monthly Notices of the Royal Astronomical Society\n",
      "\n",
      "         Title Condition‐dependent sex and the rate of adaptation\n",
      "           URL http://www.jstor.org/stable/10.1086/599086\n",
      "     Citations 12\n",
      "      Versions 11\n",
      "Citations list http://scholar.google.com/scholar?cites=3629565407784226499&as_sdt=2005&sciodt=1,5&hl=en\n",
      " Versions list http://scholar.google.com/scholar?cluster=3629565407784226499&hl=en&as_sdt=1,5\n",
      "          Year 2009\n",
      "       journal The American Naturalist\n",
      "\n",
      "         Title Plant–pollinator population dynamics\n",
      "           URL http://www.sciencedirect.com/science/article/pii/S004058091000078X\n",
      "     Citations 11\n",
      "      Versions 13\n",
      "Citations list http://scholar.google.com/scholar?cites=9337777006853471112&as_sdt=2005&sciodt=1,5&hl=en\n",
      " Versions list http://scholar.google.com/scholar?cluster=9337777006853471112&hl=en&as_sdt=1,5\n",
      "          Year 2010\n",
      "       journal Theoretical population biology\n",
      "\n"
     ]
    }
   ],
   "source": [
    "for a in querier.articles:\n",
    "    if a.attrs['title'][0] != \"Related articles\":\n",
    "        print a.as_txt()\n",
    "        print"
   ]
  },
  {
   "cell_type": "code",
   "execution_count": 50,
   "metadata": {
    "collapsed": false,
    "jupyter": {
     "outputs_hidden": false
    }
   },
   "outputs": [
    {
     "data": {
      "text/plain": [
       "True"
      ]
     },
     "execution_count": 50,
     "metadata": {},
     "output_type": "execute_result"
    }
   ],
   "source": [
    "a.attrs['num_citations'][0]>0"
   ]
  },
  {
   "cell_type": "code",
   "execution_count": 51,
   "metadata": {
    "collapsed": false,
    "jupyter": {
     "outputs_hidden": false
    }
   },
   "outputs": [
    {
     "data": {
      "text/plain": [
       "{'journal': [u'Theoretical population biology', 'journal', 7],\n",
       " 'num_citations': [11, 'Citations', 2],\n",
       " 'num_versions': [13, 'Versions', 3],\n",
       " 'title': [u'Plant\\u2013pollinator population dynamics', 'Title', 0],\n",
       " 'url': [u'http://www.sciencedirect.com/science/article/pii/S004058091000078X',\n",
       "  'URL',\n",
       "  1],\n",
       " 'url_citations': [u'http://scholar.google.com/scholar?cites=9337777006853471112&as_sdt=2005&sciodt=1,5&hl=en',\n",
       "  'Citations list',\n",
       "  4],\n",
       " 'url_versions': [u'http://scholar.google.com/scholar?cluster=9337777006853471112&hl=en&as_sdt=1,5',\n",
       "  'Versions list',\n",
       "  5],\n",
       " 'year': [u'2010', 'Year', 6]}"
      ]
     },
     "execution_count": 51,
     "metadata": {},
     "output_type": "execute_result"
    }
   ],
   "source": [
    "a.attrs"
   ]
  },
  {
   "cell_type": "code",
   "execution_count": null,
   "metadata": {
    "collapsed": false,
    "jupyter": {
     "outputs_hidden": false
    }
   },
   "outputs": [],
   "source": []
  }
 ],
 "metadata": {
  "kernelspec": {
   "display_name": "Python 3",
   "language": "python",
   "name": "python3"
  },
  "language_info": {
   "codemirror_mode": {
    "name": "ipython",
    "version": 3
   },
   "file_extension": ".py",
   "mimetype": "text/x-python",
   "name": "python",
   "nbconvert_exporter": "python",
   "pygments_lexer": "ipython3",
   "version": "3.7.3"
  }
 },
 "nbformat": 4,
 "nbformat_minor": 4
}
