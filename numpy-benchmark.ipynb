{
 "cells": [
  {
   "cell_type": "code",
   "execution_count": 1,
   "id": "a767b52b-1b64-4eca-94b0-08accf7ad9d6",
   "metadata": {},
   "outputs": [
    {
     "name": "stdout",
     "output_type": "stream",
     "text": [
      "Python 3.12.4 | packaged by conda-forge | (main, Jun 17 2024, 10:11:10) [Clang 16.0.6 ]\n",
      "NumPy 2.0.0\n"
     ]
    }
   ],
   "source": [
    "import time\n",
    "import numpy as np\n",
    "import sys\n",
    "print(\"Python\", sys.version)\n",
    "print(\"NumPy\", np.__version__)"
   ]
  },
  {
   "cell_type": "code",
   "execution_count": 4,
   "id": "748517ee-5c0a-4c03-b0b6-9ce75f20596f",
   "metadata": {},
   "outputs": [
    {
     "name": "stdout",
     "output_type": "stream",
     "text": [
      "mean of 10 runs: 4.75875s\n"
     ]
    }
   ],
   "source": [
    "np.random.seed(42)\n",
    "a = np.random.uniform(size=(300, 300))\n",
    "runtimes = 10\n",
    "\n",
    "timecosts = []\n",
    "for _ in range(runtimes):\n",
    "    s_time = time.time()\n",
    "    for i in range(100):\n",
    "        a += 1\n",
    "        np.linalg.svd(a)\n",
    "    timecosts.append(time.time() - s_time)\n",
    "\n",
    "print(f'mean of {runtimes} runs: {np.mean(timecosts):.5f}s')"
   ]
  },
  {
   "cell_type": "markdown",
   "id": "a30e9065-273d-45de-b411-76c64b1a71b8",
   "metadata": {},
   "source": [
    "# Results\n",
    "- MacOS, Python 3.11.4, NumPy 1.26.0: 6.03519s, 3.45339s, 4.10314sn\n",
    "- MacOS, Python 3.12.4, NumPy 2.0.0: 3.31660s, 4.84493s, 4.98963s"
   ]
  }
 ],
 "metadata": {
  "kernelspec": {
   "display_name": "Python [conda env:scipy2]",
   "language": "python",
   "name": "conda-env-scipy2-py"
  },
  "language_info": {
   "codemirror_mode": {
    "name": "ipython",
    "version": 3
   },
   "file_extension": ".py",
   "mimetype": "text/x-python",
   "name": "python",
   "nbconvert_exporter": "python",
   "pygments_lexer": "ipython3",
   "version": "3.12.4"
  }
 },
 "nbformat": 4,
 "nbformat_minor": 5
}
