{
 "cells": [
  {
   "cell_type": "markdown",
   "metadata": {},
   "source": [
    "Based on Hartfield & Otto 2011 which cite Haldane 1924:\n",
    "\n",
    "> Once established, the frequency of A1B1 can be modeled by the standard deterministic equation for haploid selection (Haldane, 1924): $p(t) = \\frac{p_0}{p_0 + (1 - p_0)(1-s)^t }$"
   ]
  },
  {
   "cell_type": "code",
   "execution_count": 48,
   "metadata": {},
   "outputs": [],
   "source": [
    "p = lambda t: (p0)/(p0 + (1 - p0)*(1-s)**t)"
   ]
  },
  {
   "cell_type": "markdown",
   "metadata": {},
   "source": [
    "### Simulation:"
   ]
  },
  {
   "cell_type": "code",
   "execution_count": 52,
   "metadata": {},
   "outputs": [],
   "source": [
    "N = 1e6\n",
    "p0 = 1./N\n",
    "p1 = 1-p1\n",
    "s = 0.01"
   ]
  },
  {
   "cell_type": "code",
   "execution_count": 53,
   "metadata": {},
   "outputs": [
    {
     "name": "stdout",
     "output_type": "stream",
     "text": [
      "100 2.73199429462e-06\n",
      "200 7.46377043595e-06\n",
      "300 2.03907499683e-05\n",
      "400 5.57055417224e-05\n",
      "500 0.000152172803824\n",
      "600 0.000415626408093\n",
      "700 0.0011346741306\n",
      "800 0.00309384842062\n",
      "900 0.00840733978591\n",
      "1000 0.0226391835409\n",
      "1100 0.0595165224224\n",
      "1200 0.147404271787\n",
      "1300 0.320805405939\n",
      "1400 0.563397103729\n",
      "1500 0.779025113177\n",
      "1600 0.905938943823\n",
      "1700 0.963387337251\n",
      "1800 0.986280125989\n"
     ]
    }
   ],
   "source": [
    "f = [array([p0, p1])]\n",
    "tick = 0\n",
    "S = array([1,1-s])\n",
    "while f[-1][0] < 0.99:\n",
    "    tick += 1\n",
    "    f.append(f[-1] * S)\n",
    "    f[-1] /= f[-1].sum()\n",
    "    if tick%100 == 0: print tick,f[-1][0]\n",
    "f = array(f)"
   ]
  },
  {
   "cell_type": "code",
   "execution_count": 54,
   "metadata": {},
   "outputs": [],
   "source": [
    "t = arange(0,tick+1)\n",
    "y = np.vectorize(p)(t)"
   ]
  },
  {
   "cell_type": "code",
   "execution_count": 56,
   "metadata": {},
   "outputs": [
    {
     "data": {
      "text/plain": [
       "[<matplotlib.lines.Line2D at 0x6373310>]"
      ]
     },
     "execution_count": 56,
     "metadata": {},
     "output_type": "execute_result"
    },
    {
     "data": {
      "image/png": "[encoded data removed]",
      "text/plain": [
       "<matplotlib.figure.Figure at 0x6373110>"
      ]
     },
     "metadata": {},
     "output_type": "display_data"
    }
   ],
   "source": [
    "plot(t, y, 'b-', lw=1)\n",
    "plot(t, f[:,0], 'r--', lw=3)"
   ]
  },
  {
   "cell_type": "code",
   "execution_count": 57,
   "metadata": {},
   "outputs": [],
   "source": [
    "Tfix = lambda N,s: -2*log(N)/log(1-s)"
   ]
  },
  {
   "cell_type": "code",
   "execution_count": 58,
   "metadata": {},
   "outputs": [],
   "source": [
    "N = logspace(3,8,50)\n",
    "T = Tfix(N,s)"
   ]
  },
  {
   "cell_type": "code",
   "execution_count": 59,
   "metadata": {},
   "outputs": [
    {
     "data": {
      "image/png": "[encoded data removed]",
      "text/plain": [
       "<matplotlib.figure.Figure at 0x53eae10>"
      ]
     },
     "metadata": {},
     "output_type": "display_data"
    }
   ],
   "source": [
    "plot(N,T)\n",
    "xscale('log')\n",
    "grid(False,'minor')"
   ]
  },
  {
   "cell_type": "code",
   "execution_count": null,
   "metadata": {},
   "outputs": [],
   "source": []
  }
 ],
 "metadata": {
  "kernelspec": {
   "display_name": "Python [default]",
   "language": "python",
   "name": "python3"
  },
  "language_info": {
   "codemirror_mode": {
    "name": "ipython",
    "version": 3
   },
   "file_extension": ".py",
   "mimetype": "text/x-python",
   "name": "python",
   "nbconvert_exporter": "python",
   "pygments_lexer": "ipython3",
   "version": "3.6.2"
  }
 },
 "nbformat": 4,
 "nbformat_minor": 1
}
